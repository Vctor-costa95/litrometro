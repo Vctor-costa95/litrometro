{
 "cells": [
  {
   "cell_type": "code",
   "execution_count": 181,
   "metadata": {},
   "outputs": [],
   "source": [
    "import pandas as pd\n",
    "import numpy as np\n",
    "import json"
   ]
  },
  {
   "attachments": {},
   "cell_type": "markdown",
   "metadata": {},
   "source": [
    "veja que o simples formato read_json não funciona muito bem em separar os dados neste caso:\n"
   ]
  },
  {
   "cell_type": "code",
   "execution_count": 182,
   "metadata": {},
   "outputs": [
    {
     "data": {
      "text/html": [
       "<div>\n",
       "<style scoped>\n",
       "    .dataframe tbody tr th:only-of-type {\n",
       "        vertical-align: middle;\n",
       "    }\n",
       "\n",
       "    .dataframe tbody tr th {\n",
       "        vertical-align: top;\n",
       "    }\n",
       "\n",
       "    .dataframe thead th {\n",
       "        text-align: right;\n",
       "    }\n",
       "</style>\n",
       "<table border=\"1\" class=\"dataframe\">\n",
       "  <thead>\n",
       "    <tr style=\"text-align: right;\">\n",
       "      <th></th>\n",
       "      <th>gasolina</th>\n",
       "      <th>diesel</th>\n",
       "      <th>etanol</th>\n",
       "      <th>gasolina aditivada</th>\n",
       "      <th>gnv</th>\n",
       "    </tr>\n",
       "  </thead>\n",
       "  <tbody>\n",
       "    <tr>\n",
       "      <th>0</th>\n",
       "      <td>{'preco_medio': {'2018-12': 4.58, '2019-01': 4...</td>\n",
       "      <td>NaN</td>\n",
       "      <td>NaN</td>\n",
       "      <td>NaN</td>\n",
       "      <td>NaN</td>\n",
       "    </tr>\n",
       "    <tr>\n",
       "      <th>1</th>\n",
       "      <td>NaN</td>\n",
       "      <td>{'preco_medio': {'2018-12': 3.7, '2019-01': 3....</td>\n",
       "      <td>NaN</td>\n",
       "      <td>NaN</td>\n",
       "      <td>NaN</td>\n",
       "    </tr>\n",
       "    <tr>\n",
       "      <th>2</th>\n",
       "      <td>NaN</td>\n",
       "      <td>NaN</td>\n",
       "      <td>{'preco_medio': {'2018-12': 3.19, '2019-01': 3...</td>\n",
       "      <td>NaN</td>\n",
       "      <td>NaN</td>\n",
       "    </tr>\n",
       "    <tr>\n",
       "      <th>3</th>\n",
       "      <td>NaN</td>\n",
       "      <td>NaN</td>\n",
       "      <td>NaN</td>\n",
       "      <td>{'preco_medio': {'2019-01': 4.3, '2019-02': 4....</td>\n",
       "      <td>NaN</td>\n",
       "    </tr>\n",
       "    <tr>\n",
       "      <th>4</th>\n",
       "      <td>NaN</td>\n",
       "      <td>NaN</td>\n",
       "      <td>NaN</td>\n",
       "      <td>NaN</td>\n",
       "      <td>{'preco_medio': {'2019-01': 3.19, '2019-02': 3...</td>\n",
       "    </tr>\n",
       "  </tbody>\n",
       "</table>\n",
       "</div>"
      ],
      "text/plain": [
       "                                            gasolina  \\\n",
       "0  {'preco_medio': {'2018-12': 4.58, '2019-01': 4...   \n",
       "1                                                NaN   \n",
       "2                                                NaN   \n",
       "3                                                NaN   \n",
       "4                                                NaN   \n",
       "\n",
       "                                              diesel  \\\n",
       "0                                                NaN   \n",
       "1  {'preco_medio': {'2018-12': 3.7, '2019-01': 3....   \n",
       "2                                                NaN   \n",
       "3                                                NaN   \n",
       "4                                                NaN   \n",
       "\n",
       "                                              etanol  \\\n",
       "0                                                NaN   \n",
       "1                                                NaN   \n",
       "2  {'preco_medio': {'2018-12': 3.19, '2019-01': 3...   \n",
       "3                                                NaN   \n",
       "4                                                NaN   \n",
       "\n",
       "                                  gasolina aditivada  \\\n",
       "0                                                NaN   \n",
       "1                                                NaN   \n",
       "2                                                NaN   \n",
       "3  {'preco_medio': {'2019-01': 4.3, '2019-02': 4....   \n",
       "4                                                NaN   \n",
       "\n",
       "                                                 gnv  \n",
       "0                                                NaN  \n",
       "1                                                NaN  \n",
       "2                                                NaN  \n",
       "3                                                NaN  \n",
       "4  {'preco_medio': {'2019-01': 3.19, '2019-02': 3...  "
      ]
     },
     "execution_count": 182,
     "metadata": {},
     "output_type": "execute_result"
    }
   ],
   "source": [
    "dfhistorico = pd.read_json('C:/Users/jvict/OneDrive/Documentos/python\\litrometro/api/historico.json')\n",
    "dfhistorico"
   ]
  },
  {
   "attachments": {},
   "cell_type": "markdown",
   "metadata": {},
   "source": [
    "Então tentaremos outro approach "
   ]
  },
  {
   "cell_type": "code",
   "execution_count": 183,
   "metadata": {},
   "outputs": [
    {
     "name": "stdout",
     "output_type": "stream",
     "text": [
      "[{'gasolina': {'preco_medio': {'2018-12': 4.58, '2019-01': 4.19, '2019-02': 4.27, '2019-03': 4.29, '2019-04': 4.57, '2019-05': 4.55, '2019-06': 4.4, '2019-07': 4.3, '2019-08': 4.2, '2019-09': 4.39, '2019-10': 4.39, '2019-11': 4.39, '2019-12': 4.47, '2020-01': 4.49, '2020-02': 4.49, '2020-03': 4.47, '2020-04': 4.0, '2020-05': 3.78, '2020-06': 3.9, '2020-07': 4.35, '2020-08': 4.44, '2020-09': 4.45, '2020-10': 4.47, '2020-11': 4.49, '2020-12': 4.6, '2021-01': 4.78, '2021-02': 5.1, '2021-03': 5.6, '2021-04': 5.6, '2021-05': 5.6, '2021-06': 5.8, '2021-07': 5.9, '2021-08': 6.0, '2021-09': 6.09, '2021-10': 6.24, '2021-11': 6.5, '2021-12': 6.5, '2022-01': 6.4, '2022-02': 6.4, '2022-03': 6.99, '2022-04': 7.0, '2022-05': 6.99, '2022-06': 7.19, '2022-07': 5.98, '2022-08': 5.35, '2022-09': 4.98, '2022-10': 4.89, '2022-11': 4.97, '2022-12': 4.87, '2023-01': 4.89, '2023-02': 4.99, '2023-03': 5.43, '2023-04': 5.63, '2023-05': 5.57, '2023-06': 5.39}}}, {'diesel': {'preco_medio': {'2018-12': 3.7, '2019-01': 3.69, '2019-02': 3.69, '2019-03': 3.7, '2019-04': 3.71, '2019-05': 3.79, '2019-06': 3.73, '2019-07': 3.7, '2019-08': 3.69, '2019-09': 3.79, '2019-10': 3.85, '2019-11': 3.85, '2019-12': 3.86, '2020-01': 3.89, '2020-02': 3.89, '2020-03': 3.77, '2020-04': 3.5, '2020-05': 3.16, '2020-06': 3.19, '2020-07': 3.36, '2020-08': 3.5, '2020-09': 3.69, '2020-10': 3.68, '2020-11': 3.7, '2020-12': 3.85, '2021-01': 3.94, '2021-02': 4.17, '2021-03': 4.5, '2021-04': 4.5, '2021-05': 4.68, '2021-06': 4.8, '2021-07': 4.89, '2021-08': 4.9, '2021-09': 4.99, '2021-10': 5.29, '2021-11': 5.56, '2021-12': 5.54, '2022-01': 5.55, '2022-02': 5.76, '2022-03': 6.6, '2022-04': 6.8, '2022-05': 6.89, '2022-06': 7.25, '2022-07': 7.48, '2022-08': 6.99, '2022-09': 6.69, '2022-10': 6.65, '2022-11': 6.69, '2022-12': 6.59, '2023-01': 6.49, '2023-02': 5.99, '2023-03': 5.95, '2023-04': 5.99, '2023-05': 5.59, '2023-06': 4.99}}}, {'etanol': {'preco_medio': {'2018-12': 3.19, '2019-01': 3.2, '2019-02': 3.29, '2019-03': 3.4, '2019-04': 3.58, '2019-05': 3.9, '2019-06': 3.74, '2019-07': 3.7, '2019-08': 3.7, '2019-09': 3.6, '2019-10': 3.39, '2019-11': 3.28, '2019-12': 3.26, '2020-01': 3.46, '2020-02': 3.56, '2020-03': 3.6, '2020-04': 3.5, '2020-05': 3.2, '2020-06': 3.2, '2020-07': 3.3, '2020-08': 3.36, '2020-09': 3.48, '2020-10': 3.5, '2020-11': 3.5, '2020-12': 3.59, '2021-01': 3.6, '2021-02': 3.85, '2021-03': 4.45, '2021-04': 4.5, '2021-05': 4.5, '2021-06': 5.1, '2021-07': 5.2, '2021-08': 5.35, '2021-09': 5.43, '2021-10': 5.3, '2021-11': 5.2, '2021-12': 5.2, '2022-01': 5.19, '2022-02': 5.09, '2022-03': 5.1, '2022-04': 5.29, '2022-05': 5.59, '2022-06': 5.69, '2022-07': 5.19, '2022-08': 4.79, '2022-09': 4.19, '2022-10': 3.59, '2022-11': 3.69, '2022-12': 3.79, '2023-01': 3.89, '2023-02': 3.89, '2023-03': 3.99, '2023-04': 4.19, '2023-05': 4.29, '2023-06': 4.29}}}, {'gasolina aditivada': {'preco_medio': {'2019-01': 4.3, '2019-02': 4.3, '2019-03': 4.4, '2019-04': 4.64, '2019-05': 4.69, '2019-06': 4.6, '2019-07': 4.58, '2019-08': 4.5, '2019-09': 4.59, '2019-10': 4.59, '2019-11': 4.59, '2019-12': 4.62, '2020-01': 4.68, '2020-02': 4.68, '2020-03': 4.6, '2020-04': 4.2, '2020-05': 3.9, '2020-06': 4.08, '2020-07': 4.5, '2020-08': 4.59, '2020-09': 4.62, '2020-10': 4.66, '2020-11': 4.66, '2020-12': 4.75, '2021-01': 4.89, '2021-02': 5.25, '2021-03': 5.78, '2021-04': 5.8, '2021-05': 5.79, '2021-06': 5.99, '2021-07': 6.1, '2021-08': 6.2, '2021-09': 6.29, '2021-10': 6.4, '2021-11': 6.7, '2021-12': 6.66, '2022-01': 6.6, '2022-02': 6.6, '2022-03': 7.14, '2022-04': 7.2, '2022-05': 7.2, '2022-06': 7.38, '2022-07': 6.18, '2022-08': 5.49, '2022-09': 5.09, '2022-10': 5.09, '2022-11': 5.14, '2022-12': 5.09, '2023-01': 5.09, '2023-02': 5.22, '2023-03': 5.59, '2023-04': 5.79, '2023-05': 5.77, '2023-06': 5.59}}}, {'gnv': {'preco_medio': {'2019-01': 3.19, '2019-02': 3.45, '2019-03': 3.45, '2019-04': 3.45, '2019-05': 3.45, '2019-06': 3.49, '2019-07': 3.49, '2019-08': 3.59, '2019-09': 3.59, '2019-10': 3.59, '2019-11': 3.59, '2019-12': 3.59, '2020-01': 3.59, '2020-02': 3.59, '2020-03': 3.59, '2020-04': 3.5, '2020-05': 3.5, '2020-06': 3.5, '2020-07': 3.49, '2020-08': 3.19, '2020-09': 2.96, '2020-10': 2.99, '2020-11': 2.99, '2020-12': 3.39, '2021-01': 3.39, '2021-02': 3.19, '2021-03': 3.2, '2021-04': 3.2, '2021-05': 3.99, '2021-06': 4.19, '2021-07': 4.19, '2021-08': 4.3, '2021-09': 4.4, '2021-10': 4.44, '2021-11': 4.69, '2021-12': 4.69, '2022-01': 4.69, '2022-02': 4.99, '2022-03': 4.54, '2022-04': 4.54, '2022-05': 4.74, '2022-06': 4.69, '2022-07': 4.42, '2022-08': 4.49, '2022-09': 4.39, '2022-10': 4.39, '2022-11': 4.67, '2022-12': 4.59, '2023-01': 4.59, '2023-02': 4.59, '2023-03': 4.59, '2023-04': 4.69, '2023-05': 4.59, '2023-06': 4.59}}}]\n"
     ]
    }
   ],
   "source": [
    "with open('C:/Users/jvict/OneDrive/Documentos/python\\litrometro/api/historico.json') as file:\n",
    "    data = json.load(file)\n",
    "print(data)"
   ]
  },
  {
   "attachments": {},
   "cell_type": "markdown",
   "metadata": {},
   "source": [
    "Podemos ver que aqui temos uma lista de listas e temos que separar em Dataframes separados"
   ]
  },
  {
   "cell_type": "code",
   "execution_count": 184,
   "metadata": {},
   "outputs": [
    {
     "data": {
      "text/plain": [
       "[{'gasolina': {'preco_medio': {'2018-12': 4.58,\n",
       "    '2019-01': 4.19,\n",
       "    '2019-02': 4.27,\n",
       "    '2019-03': 4.29,\n",
       "    '2019-04': 4.57,\n",
       "    '2019-05': 4.55,\n",
       "    '2019-06': 4.4,\n",
       "    '2019-07': 4.3,\n",
       "    '2019-08': 4.2,\n",
       "    '2019-09': 4.39,\n",
       "    '2019-10': 4.39,\n",
       "    '2019-11': 4.39,\n",
       "    '2019-12': 4.47,\n",
       "    '2020-01': 4.49,\n",
       "    '2020-02': 4.49,\n",
       "    '2020-03': 4.47,\n",
       "    '2020-04': 4.0,\n",
       "    '2020-05': 3.78,\n",
       "    '2020-06': 3.9,\n",
       "    '2020-07': 4.35,\n",
       "    '2020-08': 4.44,\n",
       "    '2020-09': 4.45,\n",
       "    '2020-10': 4.47,\n",
       "    '2020-11': 4.49,\n",
       "    '2020-12': 4.6,\n",
       "    '2021-01': 4.78,\n",
       "    '2021-02': 5.1,\n",
       "    '2021-03': 5.6,\n",
       "    '2021-04': 5.6,\n",
       "    '2021-05': 5.6,\n",
       "    '2021-06': 5.8,\n",
       "    '2021-07': 5.9,\n",
       "    '2021-08': 6.0,\n",
       "    '2021-09': 6.09,\n",
       "    '2021-10': 6.24,\n",
       "    '2021-11': 6.5,\n",
       "    '2021-12': 6.5,\n",
       "    '2022-01': 6.4,\n",
       "    '2022-02': 6.4,\n",
       "    '2022-03': 6.99,\n",
       "    '2022-04': 7.0,\n",
       "    '2022-05': 6.99,\n",
       "    '2022-06': 7.19,\n",
       "    '2022-07': 5.98,\n",
       "    '2022-08': 5.35,\n",
       "    '2022-09': 4.98,\n",
       "    '2022-10': 4.89,\n",
       "    '2022-11': 4.97,\n",
       "    '2022-12': 4.87,\n",
       "    '2023-01': 4.89,\n",
       "    '2023-02': 4.99,\n",
       "    '2023-03': 5.43,\n",
       "    '2023-04': 5.63,\n",
       "    '2023-05': 5.57,\n",
       "    '2023-06': 5.39}}},\n",
       " {'diesel': {'preco_medio': {'2018-12': 3.7,\n",
       "    '2019-01': 3.69,\n",
       "    '2019-02': 3.69,\n",
       "    '2019-03': 3.7,\n",
       "    '2019-04': 3.71,\n",
       "    '2019-05': 3.79,\n",
       "    '2019-06': 3.73,\n",
       "    '2019-07': 3.7,\n",
       "    '2019-08': 3.69,\n",
       "    '2019-09': 3.79,\n",
       "    '2019-10': 3.85,\n",
       "    '2019-11': 3.85,\n",
       "    '2019-12': 3.86,\n",
       "    '2020-01': 3.89,\n",
       "    '2020-02': 3.89,\n",
       "    '2020-03': 3.77,\n",
       "    '2020-04': 3.5,\n",
       "    '2020-05': 3.16,\n",
       "    '2020-06': 3.19,\n",
       "    '2020-07': 3.36,\n",
       "    '2020-08': 3.5,\n",
       "    '2020-09': 3.69,\n",
       "    '2020-10': 3.68,\n",
       "    '2020-11': 3.7,\n",
       "    '2020-12': 3.85,\n",
       "    '2021-01': 3.94,\n",
       "    '2021-02': 4.17,\n",
       "    '2021-03': 4.5,\n",
       "    '2021-04': 4.5,\n",
       "    '2021-05': 4.68,\n",
       "    '2021-06': 4.8,\n",
       "    '2021-07': 4.89,\n",
       "    '2021-08': 4.9,\n",
       "    '2021-09': 4.99,\n",
       "    '2021-10': 5.29,\n",
       "    '2021-11': 5.56,\n",
       "    '2021-12': 5.54,\n",
       "    '2022-01': 5.55,\n",
       "    '2022-02': 5.76,\n",
       "    '2022-03': 6.6,\n",
       "    '2022-04': 6.8,\n",
       "    '2022-05': 6.89,\n",
       "    '2022-06': 7.25,\n",
       "    '2022-07': 7.48,\n",
       "    '2022-08': 6.99,\n",
       "    '2022-09': 6.69,\n",
       "    '2022-10': 6.65,\n",
       "    '2022-11': 6.69,\n",
       "    '2022-12': 6.59,\n",
       "    '2023-01': 6.49,\n",
       "    '2023-02': 5.99,\n",
       "    '2023-03': 5.95,\n",
       "    '2023-04': 5.99,\n",
       "    '2023-05': 5.59,\n",
       "    '2023-06': 4.99}}},\n",
       " {'etanol': {'preco_medio': {'2018-12': 3.19,\n",
       "    '2019-01': 3.2,\n",
       "    '2019-02': 3.29,\n",
       "    '2019-03': 3.4,\n",
       "    '2019-04': 3.58,\n",
       "    '2019-05': 3.9,\n",
       "    '2019-06': 3.74,\n",
       "    '2019-07': 3.7,\n",
       "    '2019-08': 3.7,\n",
       "    '2019-09': 3.6,\n",
       "    '2019-10': 3.39,\n",
       "    '2019-11': 3.28,\n",
       "    '2019-12': 3.26,\n",
       "    '2020-01': 3.46,\n",
       "    '2020-02': 3.56,\n",
       "    '2020-03': 3.6,\n",
       "    '2020-04': 3.5,\n",
       "    '2020-05': 3.2,\n",
       "    '2020-06': 3.2,\n",
       "    '2020-07': 3.3,\n",
       "    '2020-08': 3.36,\n",
       "    '2020-09': 3.48,\n",
       "    '2020-10': 3.5,\n",
       "    '2020-11': 3.5,\n",
       "    '2020-12': 3.59,\n",
       "    '2021-01': 3.6,\n",
       "    '2021-02': 3.85,\n",
       "    '2021-03': 4.45,\n",
       "    '2021-04': 4.5,\n",
       "    '2021-05': 4.5,\n",
       "    '2021-06': 5.1,\n",
       "    '2021-07': 5.2,\n",
       "    '2021-08': 5.35,\n",
       "    '2021-09': 5.43,\n",
       "    '2021-10': 5.3,\n",
       "    '2021-11': 5.2,\n",
       "    '2021-12': 5.2,\n",
       "    '2022-01': 5.19,\n",
       "    '2022-02': 5.09,\n",
       "    '2022-03': 5.1,\n",
       "    '2022-04': 5.29,\n",
       "    '2022-05': 5.59,\n",
       "    '2022-06': 5.69,\n",
       "    '2022-07': 5.19,\n",
       "    '2022-08': 4.79,\n",
       "    '2022-09': 4.19,\n",
       "    '2022-10': 3.59,\n",
       "    '2022-11': 3.69,\n",
       "    '2022-12': 3.79,\n",
       "    '2023-01': 3.89,\n",
       "    '2023-02': 3.89,\n",
       "    '2023-03': 3.99,\n",
       "    '2023-04': 4.19,\n",
       "    '2023-05': 4.29,\n",
       "    '2023-06': 4.29}}},\n",
       " {'gasolina aditivada': {'preco_medio': {'2019-01': 4.3,\n",
       "    '2019-02': 4.3,\n",
       "    '2019-03': 4.4,\n",
       "    '2019-04': 4.64,\n",
       "    '2019-05': 4.69,\n",
       "    '2019-06': 4.6,\n",
       "    '2019-07': 4.58,\n",
       "    '2019-08': 4.5,\n",
       "    '2019-09': 4.59,\n",
       "    '2019-10': 4.59,\n",
       "    '2019-11': 4.59,\n",
       "    '2019-12': 4.62,\n",
       "    '2020-01': 4.68,\n",
       "    '2020-02': 4.68,\n",
       "    '2020-03': 4.6,\n",
       "    '2020-04': 4.2,\n",
       "    '2020-05': 3.9,\n",
       "    '2020-06': 4.08,\n",
       "    '2020-07': 4.5,\n",
       "    '2020-08': 4.59,\n",
       "    '2020-09': 4.62,\n",
       "    '2020-10': 4.66,\n",
       "    '2020-11': 4.66,\n",
       "    '2020-12': 4.75,\n",
       "    '2021-01': 4.89,\n",
       "    '2021-02': 5.25,\n",
       "    '2021-03': 5.78,\n",
       "    '2021-04': 5.8,\n",
       "    '2021-05': 5.79,\n",
       "    '2021-06': 5.99,\n",
       "    '2021-07': 6.1,\n",
       "    '2021-08': 6.2,\n",
       "    '2021-09': 6.29,\n",
       "    '2021-10': 6.4,\n",
       "    '2021-11': 6.7,\n",
       "    '2021-12': 6.66,\n",
       "    '2022-01': 6.6,\n",
       "    '2022-02': 6.6,\n",
       "    '2022-03': 7.14,\n",
       "    '2022-04': 7.2,\n",
       "    '2022-05': 7.2,\n",
       "    '2022-06': 7.38,\n",
       "    '2022-07': 6.18,\n",
       "    '2022-08': 5.49,\n",
       "    '2022-09': 5.09,\n",
       "    '2022-10': 5.09,\n",
       "    '2022-11': 5.14,\n",
       "    '2022-12': 5.09,\n",
       "    '2023-01': 5.09,\n",
       "    '2023-02': 5.22,\n",
       "    '2023-03': 5.59,\n",
       "    '2023-04': 5.79,\n",
       "    '2023-05': 5.77,\n",
       "    '2023-06': 5.59}}},\n",
       " {'gnv': {'preco_medio': {'2019-01': 3.19,\n",
       "    '2019-02': 3.45,\n",
       "    '2019-03': 3.45,\n",
       "    '2019-04': 3.45,\n",
       "    '2019-05': 3.45,\n",
       "    '2019-06': 3.49,\n",
       "    '2019-07': 3.49,\n",
       "    '2019-08': 3.59,\n",
       "    '2019-09': 3.59,\n",
       "    '2019-10': 3.59,\n",
       "    '2019-11': 3.59,\n",
       "    '2019-12': 3.59,\n",
       "    '2020-01': 3.59,\n",
       "    '2020-02': 3.59,\n",
       "    '2020-03': 3.59,\n",
       "    '2020-04': 3.5,\n",
       "    '2020-05': 3.5,\n",
       "    '2020-06': 3.5,\n",
       "    '2020-07': 3.49,\n",
       "    '2020-08': 3.19,\n",
       "    '2020-09': 2.96,\n",
       "    '2020-10': 2.99,\n",
       "    '2020-11': 2.99,\n",
       "    '2020-12': 3.39,\n",
       "    '2021-01': 3.39,\n",
       "    '2021-02': 3.19,\n",
       "    '2021-03': 3.2,\n",
       "    '2021-04': 3.2,\n",
       "    '2021-05': 3.99,\n",
       "    '2021-06': 4.19,\n",
       "    '2021-07': 4.19,\n",
       "    '2021-08': 4.3,\n",
       "    '2021-09': 4.4,\n",
       "    '2021-10': 4.44,\n",
       "    '2021-11': 4.69,\n",
       "    '2021-12': 4.69,\n",
       "    '2022-01': 4.69,\n",
       "    '2022-02': 4.99,\n",
       "    '2022-03': 4.54,\n",
       "    '2022-04': 4.54,\n",
       "    '2022-05': 4.74,\n",
       "    '2022-06': 4.69,\n",
       "    '2022-07': 4.42,\n",
       "    '2022-08': 4.49,\n",
       "    '2022-09': 4.39,\n",
       "    '2022-10': 4.39,\n",
       "    '2022-11': 4.67,\n",
       "    '2022-12': 4.59,\n",
       "    '2023-01': 4.59,\n",
       "    '2023-02': 4.59,\n",
       "    '2023-03': 4.59,\n",
       "    '2023-04': 4.69,\n",
       "    '2023-05': 4.59,\n",
       "    '2023-06': 4.59}}}]"
      ]
     },
     "execution_count": 184,
     "metadata": {},
     "output_type": "execute_result"
    }
   ],
   "source": [
    "data"
   ]
  },
  {
   "attachments": {},
   "cell_type": "markdown",
   "metadata": {},
   "source": [
    "aproveitamos para separar as datas (que estavam como index) e colocamos ela como uma coluna de fato"
   ]
  },
  {
   "cell_type": "code",
   "execution_count": 185,
   "metadata": {},
   "outputs": [
    {
     "data": {
      "text/html": [
       "<div>\n",
       "<style scoped>\n",
       "    .dataframe tbody tr th:only-of-type {\n",
       "        vertical-align: middle;\n",
       "    }\n",
       "\n",
       "    .dataframe tbody tr th {\n",
       "        vertical-align: top;\n",
       "    }\n",
       "\n",
       "    .dataframe thead th {\n",
       "        text-align: right;\n",
       "    }\n",
       "</style>\n",
       "<table border=\"1\" class=\"dataframe\">\n",
       "  <thead>\n",
       "    <tr style=\"text-align: right;\">\n",
       "      <th></th>\n",
       "      <th>preco_medio</th>\n",
       "      <th>Data</th>\n",
       "    </tr>\n",
       "  </thead>\n",
       "  <tbody>\n",
       "    <tr>\n",
       "      <th>0</th>\n",
       "      <td>4.58</td>\n",
       "      <td>2018-12</td>\n",
       "    </tr>\n",
       "    <tr>\n",
       "      <th>1</th>\n",
       "      <td>4.19</td>\n",
       "      <td>2019-01</td>\n",
       "    </tr>\n",
       "    <tr>\n",
       "      <th>2</th>\n",
       "      <td>4.27</td>\n",
       "      <td>2019-02</td>\n",
       "    </tr>\n",
       "    <tr>\n",
       "      <th>3</th>\n",
       "      <td>4.29</td>\n",
       "      <td>2019-03</td>\n",
       "    </tr>\n",
       "    <tr>\n",
       "      <th>4</th>\n",
       "      <td>4.57</td>\n",
       "      <td>2019-04</td>\n",
       "    </tr>\n",
       "  </tbody>\n",
       "</table>\n",
       "</div>"
      ],
      "text/plain": [
       "   preco_medio     Data\n",
       "0         4.58  2018-12\n",
       "1         4.19  2019-01\n",
       "2         4.27  2019-02\n",
       "3         4.29  2019-03\n",
       "4         4.57  2019-04"
      ]
     },
     "execution_count": 185,
     "metadata": {},
     "output_type": "execute_result"
    }
   ],
   "source": [
    "gasolina = data[0]\n",
    "dfgasolina = pd.DataFrame(data[0]['gasolina'])\n",
    "dfgasolina['Data'] = dfgasolina.index\n",
    "dfgasolina = dfgasolina.reset_index(drop=True)\n",
    "dfgasolina.head()"
   ]
  },
  {
   "cell_type": "code",
   "execution_count": 186,
   "metadata": {},
   "outputs": [
    {
     "data": {
      "text/html": [
       "<div>\n",
       "<style scoped>\n",
       "    .dataframe tbody tr th:only-of-type {\n",
       "        vertical-align: middle;\n",
       "    }\n",
       "\n",
       "    .dataframe tbody tr th {\n",
       "        vertical-align: top;\n",
       "    }\n",
       "\n",
       "    .dataframe thead th {\n",
       "        text-align: right;\n",
       "    }\n",
       "</style>\n",
       "<table border=\"1\" class=\"dataframe\">\n",
       "  <thead>\n",
       "    <tr style=\"text-align: right;\">\n",
       "      <th></th>\n",
       "      <th>preco_medio</th>\n",
       "      <th>Data</th>\n",
       "    </tr>\n",
       "  </thead>\n",
       "  <tbody>\n",
       "    <tr>\n",
       "      <th>0</th>\n",
       "      <td>3.70</td>\n",
       "      <td>2018-12</td>\n",
       "    </tr>\n",
       "    <tr>\n",
       "      <th>1</th>\n",
       "      <td>3.69</td>\n",
       "      <td>2019-01</td>\n",
       "    </tr>\n",
       "    <tr>\n",
       "      <th>2</th>\n",
       "      <td>3.69</td>\n",
       "      <td>2019-02</td>\n",
       "    </tr>\n",
       "    <tr>\n",
       "      <th>3</th>\n",
       "      <td>3.70</td>\n",
       "      <td>2019-03</td>\n",
       "    </tr>\n",
       "    <tr>\n",
       "      <th>4</th>\n",
       "      <td>3.71</td>\n",
       "      <td>2019-04</td>\n",
       "    </tr>\n",
       "  </tbody>\n",
       "</table>\n",
       "</div>"
      ],
      "text/plain": [
       "   preco_medio     Data\n",
       "0         3.70  2018-12\n",
       "1         3.69  2019-01\n",
       "2         3.69  2019-02\n",
       "3         3.70  2019-03\n",
       "4         3.71  2019-04"
      ]
     },
     "execution_count": 186,
     "metadata": {},
     "output_type": "execute_result"
    }
   ],
   "source": [
    "diesel = data[1]\n",
    "dfdiesel = pd.DataFrame(data[1]['diesel'])\n",
    "dfdiesel['Data'] = dfdiesel.index\n",
    "dfdiesel = dfdiesel.reset_index(drop=True)\n",
    "dfdiesel.head()"
   ]
  },
  {
   "cell_type": "code",
   "execution_count": 187,
   "metadata": {},
   "outputs": [
    {
     "data": {
      "text/html": [
       "<div>\n",
       "<style scoped>\n",
       "    .dataframe tbody tr th:only-of-type {\n",
       "        vertical-align: middle;\n",
       "    }\n",
       "\n",
       "    .dataframe tbody tr th {\n",
       "        vertical-align: top;\n",
       "    }\n",
       "\n",
       "    .dataframe thead th {\n",
       "        text-align: right;\n",
       "    }\n",
       "</style>\n",
       "<table border=\"1\" class=\"dataframe\">\n",
       "  <thead>\n",
       "    <tr style=\"text-align: right;\">\n",
       "      <th></th>\n",
       "      <th>preco_medio</th>\n",
       "      <th>Data</th>\n",
       "    </tr>\n",
       "  </thead>\n",
       "  <tbody>\n",
       "    <tr>\n",
       "      <th>0</th>\n",
       "      <td>3.19</td>\n",
       "      <td>2018-12</td>\n",
       "    </tr>\n",
       "    <tr>\n",
       "      <th>1</th>\n",
       "      <td>3.20</td>\n",
       "      <td>2019-01</td>\n",
       "    </tr>\n",
       "    <tr>\n",
       "      <th>2</th>\n",
       "      <td>3.29</td>\n",
       "      <td>2019-02</td>\n",
       "    </tr>\n",
       "    <tr>\n",
       "      <th>3</th>\n",
       "      <td>3.40</td>\n",
       "      <td>2019-03</td>\n",
       "    </tr>\n",
       "    <tr>\n",
       "      <th>4</th>\n",
       "      <td>3.58</td>\n",
       "      <td>2019-04</td>\n",
       "    </tr>\n",
       "  </tbody>\n",
       "</table>\n",
       "</div>"
      ],
      "text/plain": [
       "   preco_medio     Data\n",
       "0         3.19  2018-12\n",
       "1         3.20  2019-01\n",
       "2         3.29  2019-02\n",
       "3         3.40  2019-03\n",
       "4         3.58  2019-04"
      ]
     },
     "execution_count": 187,
     "metadata": {},
     "output_type": "execute_result"
    }
   ],
   "source": [
    "etanol = data[2]\n",
    "dfetanol = pd.DataFrame(data[2]['etanol'])\n",
    "dfetanol['Data'] = dfetanol.index\n",
    "dfetanol = dfetanol.reset_index(drop=True)\n",
    "dfetanol.head()"
   ]
  },
  {
   "cell_type": "code",
   "execution_count": 188,
   "metadata": {},
   "outputs": [
    {
     "data": {
      "text/html": [
       "<div>\n",
       "<style scoped>\n",
       "    .dataframe tbody tr th:only-of-type {\n",
       "        vertical-align: middle;\n",
       "    }\n",
       "\n",
       "    .dataframe tbody tr th {\n",
       "        vertical-align: top;\n",
       "    }\n",
       "\n",
       "    .dataframe thead th {\n",
       "        text-align: right;\n",
       "    }\n",
       "</style>\n",
       "<table border=\"1\" class=\"dataframe\">\n",
       "  <thead>\n",
       "    <tr style=\"text-align: right;\">\n",
       "      <th></th>\n",
       "      <th>preco_medio</th>\n",
       "      <th>Data</th>\n",
       "    </tr>\n",
       "  </thead>\n",
       "  <tbody>\n",
       "    <tr>\n",
       "      <th>0</th>\n",
       "      <td>4.30</td>\n",
       "      <td>2019-01</td>\n",
       "    </tr>\n",
       "    <tr>\n",
       "      <th>1</th>\n",
       "      <td>4.30</td>\n",
       "      <td>2019-02</td>\n",
       "    </tr>\n",
       "    <tr>\n",
       "      <th>2</th>\n",
       "      <td>4.40</td>\n",
       "      <td>2019-03</td>\n",
       "    </tr>\n",
       "    <tr>\n",
       "      <th>3</th>\n",
       "      <td>4.64</td>\n",
       "      <td>2019-04</td>\n",
       "    </tr>\n",
       "    <tr>\n",
       "      <th>4</th>\n",
       "      <td>4.69</td>\n",
       "      <td>2019-05</td>\n",
       "    </tr>\n",
       "  </tbody>\n",
       "</table>\n",
       "</div>"
      ],
      "text/plain": [
       "   preco_medio     Data\n",
       "0         4.30  2019-01\n",
       "1         4.30  2019-02\n",
       "2         4.40  2019-03\n",
       "3         4.64  2019-04\n",
       "4         4.69  2019-05"
      ]
     },
     "execution_count": 188,
     "metadata": {},
     "output_type": "execute_result"
    }
   ],
   "source": [
    "gasadt = data[3]\n",
    "dfgasadt = pd.DataFrame(data[3]['gasolina aditivada'])\n",
    "dfgasadt['Data'] = dfgasadt.index\n",
    "dfgasadt = dfgasadt.reset_index(drop=True)\n",
    "dfgasadt.head()"
   ]
  },
  {
   "cell_type": "code",
   "execution_count": 189,
   "metadata": {},
   "outputs": [
    {
     "data": {
      "text/html": [
       "<div>\n",
       "<style scoped>\n",
       "    .dataframe tbody tr th:only-of-type {\n",
       "        vertical-align: middle;\n",
       "    }\n",
       "\n",
       "    .dataframe tbody tr th {\n",
       "        vertical-align: top;\n",
       "    }\n",
       "\n",
       "    .dataframe thead th {\n",
       "        text-align: right;\n",
       "    }\n",
       "</style>\n",
       "<table border=\"1\" class=\"dataframe\">\n",
       "  <thead>\n",
       "    <tr style=\"text-align: right;\">\n",
       "      <th></th>\n",
       "      <th>preco_medio</th>\n",
       "      <th>Data</th>\n",
       "    </tr>\n",
       "  </thead>\n",
       "  <tbody>\n",
       "    <tr>\n",
       "      <th>0</th>\n",
       "      <td>3.19</td>\n",
       "      <td>2019-01</td>\n",
       "    </tr>\n",
       "    <tr>\n",
       "      <th>1</th>\n",
       "      <td>3.45</td>\n",
       "      <td>2019-02</td>\n",
       "    </tr>\n",
       "    <tr>\n",
       "      <th>2</th>\n",
       "      <td>3.45</td>\n",
       "      <td>2019-03</td>\n",
       "    </tr>\n",
       "    <tr>\n",
       "      <th>3</th>\n",
       "      <td>3.45</td>\n",
       "      <td>2019-04</td>\n",
       "    </tr>\n",
       "    <tr>\n",
       "      <th>4</th>\n",
       "      <td>3.45</td>\n",
       "      <td>2019-05</td>\n",
       "    </tr>\n",
       "  </tbody>\n",
       "</table>\n",
       "</div>"
      ],
      "text/plain": [
       "   preco_medio     Data\n",
       "0         3.19  2019-01\n",
       "1         3.45  2019-02\n",
       "2         3.45  2019-03\n",
       "3         3.45  2019-04\n",
       "4         3.45  2019-05"
      ]
     },
     "execution_count": 189,
     "metadata": {},
     "output_type": "execute_result"
    }
   ],
   "source": [
    "gnv = data[4]\n",
    "dfgnv = pd.DataFrame(data[4]['gnv'])\n",
    "dfgnv['Data'] = dfgnv.index\n",
    "dfgnv = dfgnv.reset_index(drop=True)\n",
    "dfgnv.head()"
   ]
  },
  {
   "attachments": {},
   "cell_type": "markdown",
   "metadata": {},
   "source": [
    "Agora vamos começar a visualização:"
   ]
  },
  {
   "cell_type": "code",
   "execution_count": 190,
   "metadata": {},
   "outputs": [],
   "source": [
    "import matplotlib.pyplot as plt\n",
    "import seaborn as sns"
   ]
  },
  {
   "cell_type": "code",
   "execution_count": 191,
   "metadata": {},
   "outputs": [
    {
     "data": {
      "text/plain": [
       "<AxesSubplot: xlabel='Data', ylabel='preco_medio'>"
      ]
     },
     "execution_count": 191,
     "metadata": {},
     "output_type": "execute_result"
    },
    {
     "data": {
      "image/png": "[encoded data removed]",
      "text/plain": [
       "<Figure size 432x288 with 1 Axes>"
      ]
     },
     "metadata": {
      "needs_background": "light"
     },
     "output_type": "display_data"
    }
   ],
   "source": [
    "sns.lineplot(data=dfgasolina, x=dfgasolina['Data'], y= dfgasolina['preco_medio'])\n",
    "sns.lineplot(data=dfdiesel, x=dfdiesel['Data'], y= dfdiesel['preco_medio'])\n",
    "sns.lineplot(data=dfetanol, x=dfetanol['Data'], y= dfetanol['preco_medio'])\n",
    "sns.lineplot(data=dfgasadt, x=dfgasadt['Data'], y= dfgasadt['preco_medio'])\n",
    "sns.lineplot(data=dfgnv, x=dfgnv['Data'], y= dfgnv['preco_medio'])"
   ]
  },
  {
   "attachments": {},
   "cell_type": "markdown",
   "metadata": {},
   "source": [
    "Como podemos ver no gráfico ficou muita informação, vamos dar uma separada melhor"
   ]
  },
  {
   "attachments": {},
   "cell_type": "markdown",
   "metadata": {},
   "source": [
    "Primeiro vamos nos perguntar: Quanto foi o máximo da média para cada? e o mínimo?"
   ]
  },
  {
   "cell_type": "code",
   "execution_count": 192,
   "metadata": {},
   "outputs": [
    {
     "name": "stdout",
     "output_type": "stream",
     "text": [
      "Gasolina: \n",
      "     preco_medio     Data\n",
      "42         7.19  2022-06\n",
      "Diesel: \n",
      "     preco_medio     Data\n",
      "43         7.48  2022-07\n",
      "Etanol: \n",
      "     preco_medio     Data\n",
      "42         5.69  2022-06\n",
      "Gasolina Aditivada: \n",
      "     preco_medio     Data\n",
      "41         7.38  2022-06\n",
      "Gas Natural: \n",
      "     preco_medio     Data\n",
      "37         4.99  2022-02\n"
     ]
    }
   ],
   "source": [
    "print('Gasolina: \\n', dfgasolina.query('preco_medio == preco_medio.max()'))\n",
    "print('Diesel: \\n', dfdiesel.query('preco_medio == preco_medio.max()'))\n",
    "print('Etanol: \\n', dfetanol.query('preco_medio == preco_medio.max()'))\n",
    "print('Gasolina Aditivada: \\n', dfgasadt.query('preco_medio == preco_medio.max()'))\n",
    "print('Gas Natural: \\n', dfgnv.query('preco_medio == preco_medio.max()'))"
   ]
  },
  {
   "cell_type": "code",
   "execution_count": 193,
   "metadata": {},
   "outputs": [
    {
     "name": "stdout",
     "output_type": "stream",
     "text": [
      "Gasolina: \n",
      "     preco_medio     Data\n",
      "17         3.78  2020-05\n",
      "Diesel: \n",
      "     preco_medio     Data\n",
      "17         3.16  2020-05\n",
      "Etanol: \n",
      "    preco_medio     Data\n",
      "0         3.19  2018-12\n",
      "Gasolina Aditivada: \n",
      "     preco_medio     Data\n",
      "16          3.9  2020-05\n",
      "Gas Natural: \n",
      "     preco_medio     Data\n",
      "20         2.96  2020-09\n"
     ]
    }
   ],
   "source": [
    "print('Gasolina: \\n', dfgasolina.query('preco_medio == preco_medio.min()'))\n",
    "print('Diesel: \\n', dfdiesel.query('preco_medio == preco_medio.min()'))\n",
    "print('Etanol: \\n', dfetanol.query('preco_medio == preco_medio.min()'))\n",
    "print('Gasolina Aditivada: \\n', dfgasadt.query('preco_medio == preco_medio.min()'))\n",
    "print('Gas Natural: \\n', dfgnv.query('preco_medio == preco_medio.min()'))"
   ]
  },
  {
   "cell_type": "code",
   "execution_count": 194,
   "metadata": {},
   "outputs": [],
   "source": [
    "dfgasolina['Data'] = dfgasolina['Data'].astype('datetime64[ns]')\n",
    "dfdiesel['Data'] = dfgasolina['Data'].astype('datetime64[ns]')\n",
    "dfetanol['Data'] = dfgasolina['Data'].astype('datetime64[ns]')\n",
    "dfgasadt['Data'] = dfgasolina['Data'].astype('datetime64[ns]')\n",
    "dfgnv['Data'] = dfgasolina['Data'].astype('datetime64[ns]')\n"
   ]
  },
  {
   "cell_type": "code",
   "execution_count": 195,
   "metadata": {},
   "outputs": [
    {
     "data": {
      "text/html": [
       "<div>\n",
       "<style scoped>\n",
       "    .dataframe tbody tr th:only-of-type {\n",
       "        vertical-align: middle;\n",
       "    }\n",
       "\n",
       "    .dataframe tbody tr th {\n",
       "        vertical-align: top;\n",
       "    }\n",
       "\n",
       "    .dataframe thead th {\n",
       "        text-align: right;\n",
       "    }\n",
       "</style>\n",
       "<table border=\"1\" class=\"dataframe\">\n",
       "  <thead>\n",
       "    <tr style=\"text-align: right;\">\n",
       "      <th></th>\n",
       "      <th>Ano</th>\n",
       "      <th>Quarto de Ano</th>\n",
       "      <th>preco_medio</th>\n",
       "    </tr>\n",
       "  </thead>\n",
       "  <tbody>\n",
       "    <tr>\n",
       "      <th>0</th>\n",
       "      <td>2018</td>\n",
       "      <td>4</td>\n",
       "      <td>4.580000</td>\n",
       "    </tr>\n",
       "    <tr>\n",
       "      <th>1</th>\n",
       "      <td>2019</td>\n",
       "      <td>1</td>\n",
       "      <td>4.250000</td>\n",
       "    </tr>\n",
       "    <tr>\n",
       "      <th>2</th>\n",
       "      <td>2019</td>\n",
       "      <td>2</td>\n",
       "      <td>4.506667</td>\n",
       "    </tr>\n",
       "    <tr>\n",
       "      <th>3</th>\n",
       "      <td>2019</td>\n",
       "      <td>3</td>\n",
       "      <td>4.296667</td>\n",
       "    </tr>\n",
       "    <tr>\n",
       "      <th>4</th>\n",
       "      <td>2019</td>\n",
       "      <td>4</td>\n",
       "      <td>4.416667</td>\n",
       "    </tr>\n",
       "  </tbody>\n",
       "</table>\n",
       "</div>"
      ],
      "text/plain": [
       "    Ano  Quarto de Ano  preco_medio\n",
       "0  2018              4     4.580000\n",
       "1  2019              1     4.250000\n",
       "2  2019              2     4.506667\n",
       "3  2019              3     4.296667\n",
       "4  2019              4     4.416667"
      ]
     },
     "execution_count": 195,
     "metadata": {},
     "output_type": "execute_result"
    }
   ],
   "source": [
    "dfgasolina['Ano'] = dfgasolina['Data'].dt.year\n",
    "dfgasolina['Quarto de Ano'] = dfgasolina['Data'].dt.quarter\n",
    "soma_quartil = dfgasolina.groupby(['Ano', 'Quarto de Ano'])['preco_medio'].mean()\n",
    "df_soma_quartil_gasolina = soma_quartil.reset_index()\n",
    "df_soma_quartil_gasolina.head()\n"
   ]
  },
  {
   "cell_type": "code",
   "execution_count": 196,
   "metadata": {},
   "outputs": [
    {
     "data": {
      "text/html": [
       "<div>\n",
       "<style scoped>\n",
       "    .dataframe tbody tr th:only-of-type {\n",
       "        vertical-align: middle;\n",
       "    }\n",
       "\n",
       "    .dataframe tbody tr th {\n",
       "        vertical-align: top;\n",
       "    }\n",
       "\n",
       "    .dataframe thead th {\n",
       "        text-align: right;\n",
       "    }\n",
       "</style>\n",
       "<table border=\"1\" class=\"dataframe\">\n",
       "  <thead>\n",
       "    <tr style=\"text-align: right;\">\n",
       "      <th></th>\n",
       "      <th>Ano</th>\n",
       "      <th>Quarto de Ano</th>\n",
       "      <th>preco_medio</th>\n",
       "    </tr>\n",
       "  </thead>\n",
       "  <tbody>\n",
       "    <tr>\n",
       "      <th>0</th>\n",
       "      <td>2018</td>\n",
       "      <td>4</td>\n",
       "      <td>3.700000</td>\n",
       "    </tr>\n",
       "    <tr>\n",
       "      <th>1</th>\n",
       "      <td>2019</td>\n",
       "      <td>1</td>\n",
       "      <td>3.693333</td>\n",
       "    </tr>\n",
       "    <tr>\n",
       "      <th>2</th>\n",
       "      <td>2019</td>\n",
       "      <td>2</td>\n",
       "      <td>3.743333</td>\n",
       "    </tr>\n",
       "    <tr>\n",
       "      <th>3</th>\n",
       "      <td>2019</td>\n",
       "      <td>3</td>\n",
       "      <td>3.726667</td>\n",
       "    </tr>\n",
       "    <tr>\n",
       "      <th>4</th>\n",
       "      <td>2019</td>\n",
       "      <td>4</td>\n",
       "      <td>3.853333</td>\n",
       "    </tr>\n",
       "  </tbody>\n",
       "</table>\n",
       "</div>"
      ],
      "text/plain": [
       "    Ano  Quarto de Ano  preco_medio\n",
       "0  2018              4     3.700000\n",
       "1  2019              1     3.693333\n",
       "2  2019              2     3.743333\n",
       "3  2019              3     3.726667\n",
       "4  2019              4     3.853333"
      ]
     },
     "execution_count": 196,
     "metadata": {},
     "output_type": "execute_result"
    }
   ],
   "source": [
    "dfdiesel['Ano'] = dfdiesel['Data'].dt.year\n",
    "dfdiesel['Quarto de Ano'] = dfdiesel['Data'].dt.quarter\n",
    "soma_quartil = dfdiesel.groupby(['Ano', 'Quarto de Ano'])['preco_medio'].mean()\n",
    "df_soma_quartil_diesel = soma_quartil.reset_index()\n",
    "df_soma_quartil_diesel.head()"
   ]
  },
  {
   "cell_type": "code",
   "execution_count": 199,
   "metadata": {},
   "outputs": [
    {
     "data": {
      "text/html": [
       "<div>\n",
       "<style scoped>\n",
       "    .dataframe tbody tr th:only-of-type {\n",
       "        vertical-align: middle;\n",
       "    }\n",
       "\n",
       "    .dataframe tbody tr th {\n",
       "        vertical-align: top;\n",
       "    }\n",
       "\n",
       "    .dataframe thead th {\n",
       "        text-align: right;\n",
       "    }\n",
       "</style>\n",
       "<table border=\"1\" class=\"dataframe\">\n",
       "  <thead>\n",
       "    <tr style=\"text-align: right;\">\n",
       "      <th></th>\n",
       "      <th>Ano</th>\n",
       "      <th>Quarto de Ano</th>\n",
       "      <th>preco_medio</th>\n",
       "    </tr>\n",
       "  </thead>\n",
       "  <tbody>\n",
       "    <tr>\n",
       "      <th>0</th>\n",
       "      <td>2018</td>\n",
       "      <td>4</td>\n",
       "      <td>3.190000</td>\n",
       "    </tr>\n",
       "    <tr>\n",
       "      <th>1</th>\n",
       "      <td>2019</td>\n",
       "      <td>1</td>\n",
       "      <td>3.296667</td>\n",
       "    </tr>\n",
       "    <tr>\n",
       "      <th>2</th>\n",
       "      <td>2019</td>\n",
       "      <td>2</td>\n",
       "      <td>3.740000</td>\n",
       "    </tr>\n",
       "    <tr>\n",
       "      <th>3</th>\n",
       "      <td>2019</td>\n",
       "      <td>3</td>\n",
       "      <td>3.666667</td>\n",
       "    </tr>\n",
       "    <tr>\n",
       "      <th>4</th>\n",
       "      <td>2019</td>\n",
       "      <td>4</td>\n",
       "      <td>3.310000</td>\n",
       "    </tr>\n",
       "  </tbody>\n",
       "</table>\n",
       "</div>"
      ],
      "text/plain": [
       "    Ano  Quarto de Ano  preco_medio\n",
       "0  2018              4     3.190000\n",
       "1  2019              1     3.296667\n",
       "2  2019              2     3.740000\n",
       "3  2019              3     3.666667\n",
       "4  2019              4     3.310000"
      ]
     },
     "execution_count": 199,
     "metadata": {},
     "output_type": "execute_result"
    }
   ],
   "source": [
    "dfetanol['Ano'] = dfetanol['Data'].dt.year\n",
    "dfetanol['Quarto de Ano'] = dfetanol['Data'].dt.quarter\n",
    "soma_quartil = dfetanol.groupby(['Ano', 'Quarto de Ano'])['preco_medio'].mean()\n",
    "df_soma_quartil_etanol = soma_quartil.reset_index()\n",
    "df_soma_quartil_etanol.head()"
   ]
  },
  {
   "cell_type": "code",
   "execution_count": 200,
   "metadata": {},
   "outputs": [
    {
     "data": {
      "text/html": [
       "<div>\n",
       "<style scoped>\n",
       "    .dataframe tbody tr th:only-of-type {\n",
       "        vertical-align: middle;\n",
       "    }\n",
       "\n",
       "    .dataframe tbody tr th {\n",
       "        vertical-align: top;\n",
       "    }\n",
       "\n",
       "    .dataframe thead th {\n",
       "        text-align: right;\n",
       "    }\n",
       "</style>\n",
       "<table border=\"1\" class=\"dataframe\">\n",
       "  <thead>\n",
       "    <tr style=\"text-align: right;\">\n",
       "      <th></th>\n",
       "      <th>Ano</th>\n",
       "      <th>Quarto de Ano</th>\n",
       "      <th>preco_medio</th>\n",
       "    </tr>\n",
       "  </thead>\n",
       "  <tbody>\n",
       "    <tr>\n",
       "      <th>0</th>\n",
       "      <td>2018</td>\n",
       "      <td>4</td>\n",
       "      <td>4.300000</td>\n",
       "    </tr>\n",
       "    <tr>\n",
       "      <th>1</th>\n",
       "      <td>2019</td>\n",
       "      <td>1</td>\n",
       "      <td>4.446667</td>\n",
       "    </tr>\n",
       "    <tr>\n",
       "      <th>2</th>\n",
       "      <td>2019</td>\n",
       "      <td>2</td>\n",
       "      <td>4.623333</td>\n",
       "    </tr>\n",
       "    <tr>\n",
       "      <th>3</th>\n",
       "      <td>2019</td>\n",
       "      <td>3</td>\n",
       "      <td>4.560000</td>\n",
       "    </tr>\n",
       "    <tr>\n",
       "      <th>4</th>\n",
       "      <td>2019</td>\n",
       "      <td>4</td>\n",
       "      <td>4.630000</td>\n",
       "    </tr>\n",
       "  </tbody>\n",
       "</table>\n",
       "</div>"
      ],
      "text/plain": [
       "    Ano  Quarto de Ano  preco_medio\n",
       "0  2018              4     4.300000\n",
       "1  2019              1     4.446667\n",
       "2  2019              2     4.623333\n",
       "3  2019              3     4.560000\n",
       "4  2019              4     4.630000"
      ]
     },
     "execution_count": 200,
     "metadata": {},
     "output_type": "execute_result"
    }
   ],
   "source": [
    "dfgasadt['Ano'] = dfgasadt['Data'].dt.year\n",
    "dfgasadt['Quarto de Ano'] = dfgasadt['Data'].dt.quarter\n",
    "soma_quartil = dfgasadt.groupby(['Ano', 'Quarto de Ano'])['preco_medio'].mean()\n",
    "df_soma_quartil_gasadt = soma_quartil.reset_index()\n",
    "df_soma_quartil_gasadt.head()"
   ]
  },
  {
   "cell_type": "code",
   "execution_count": 201,
   "metadata": {},
   "outputs": [
    {
     "data": {
      "text/html": [
       "<div>\n",
       "<style scoped>\n",
       "    .dataframe tbody tr th:only-of-type {\n",
       "        vertical-align: middle;\n",
       "    }\n",
       "\n",
       "    .dataframe tbody tr th {\n",
       "        vertical-align: top;\n",
       "    }\n",
       "\n",
       "    .dataframe thead th {\n",
       "        text-align: right;\n",
       "    }\n",
       "</style>\n",
       "<table border=\"1\" class=\"dataframe\">\n",
       "  <thead>\n",
       "    <tr style=\"text-align: right;\">\n",
       "      <th></th>\n",
       "      <th>Ano</th>\n",
       "      <th>Quarto de Ano</th>\n",
       "      <th>preco_medio</th>\n",
       "    </tr>\n",
       "  </thead>\n",
       "  <tbody>\n",
       "    <tr>\n",
       "      <th>0</th>\n",
       "      <td>2018</td>\n",
       "      <td>4</td>\n",
       "      <td>3.190000</td>\n",
       "    </tr>\n",
       "    <tr>\n",
       "      <th>1</th>\n",
       "      <td>2019</td>\n",
       "      <td>1</td>\n",
       "      <td>3.450000</td>\n",
       "    </tr>\n",
       "    <tr>\n",
       "      <th>2</th>\n",
       "      <td>2019</td>\n",
       "      <td>2</td>\n",
       "      <td>3.476667</td>\n",
       "    </tr>\n",
       "    <tr>\n",
       "      <th>3</th>\n",
       "      <td>2019</td>\n",
       "      <td>3</td>\n",
       "      <td>3.590000</td>\n",
       "    </tr>\n",
       "    <tr>\n",
       "      <th>4</th>\n",
       "      <td>2019</td>\n",
       "      <td>4</td>\n",
       "      <td>3.590000</td>\n",
       "    </tr>\n",
       "  </tbody>\n",
       "</table>\n",
       "</div>"
      ],
      "text/plain": [
       "    Ano  Quarto de Ano  preco_medio\n",
       "0  2018              4     3.190000\n",
       "1  2019              1     3.450000\n",
       "2  2019              2     3.476667\n",
       "3  2019              3     3.590000\n",
       "4  2019              4     3.590000"
      ]
     },
     "execution_count": 201,
     "metadata": {},
     "output_type": "execute_result"
    }
   ],
   "source": [
    "dfgnv['Ano'] = dfgnv['Data'].dt.year\n",
    "dfgnv['Quarto de Ano'] = dfgnv['Data'].dt.quarter\n",
    "soma_quartil = dfgnv.groupby(['Ano', 'Quarto de Ano'])['preco_medio'].mean()\n",
    "df_soma_quartil_gnv = soma_quartil.reset_index()\n",
    "df_soma_quartil_gnv.head()"
   ]
  },
  {
   "attachments": {},
   "cell_type": "markdown",
   "metadata": {},
   "source": [
    "Vamos visualizar para ver se melhorou"
   ]
  },
  {
   "cell_type": "code",
   "execution_count": 197,
   "metadata": {},
   "outputs": [
    {
     "data": {
      "text/plain": [
       "[Text(0.5, 1.0, 'Preço da Gasolina em média')]"
      ]
     },
     "execution_count": 197,
     "metadata": {},
     "output_type": "execute_result"
    },
    {
     "data": {
      "image/png": "[encoded data removed]",
      "text/plain": [
       "<Figure size 432x288 with 1 Axes>"
      ]
     },
     "metadata": {
      "needs_background": "light"
     },
     "output_type": "display_data"
    }
   ],
   "source": [
    "sns.lineplot(df_soma_quartil_gasolina, x=df_soma_quartil_gasolina['Ano'], y=df_soma_quartil_gasolina['preco_medio'], legend=\"brief\").set(title='Preço da Gasolina em média')"
   ]
  },
  {
   "attachments": {},
   "cell_type": "markdown",
   "metadata": {},
   "source": [
    "Só lembrando como estava o antigo"
   ]
  },
  {
   "cell_type": "code",
   "execution_count": 198,
   "metadata": {},
   "outputs": [
    {
     "data": {
      "text/plain": [
       "<AxesSubplot: xlabel='Data', ylabel='preco_medio'>"
      ]
     },
     "execution_count": 198,
     "metadata": {},
     "output_type": "execute_result"
    },
    {
     "data": {
      "image/png": "[encoded data removed]",
      "text/plain": [
       "<Figure size 432x288 with 1 Axes>"
      ]
     },
     "metadata": {
      "needs_background": "light"
     },
     "output_type": "display_data"
    }
   ],
   "source": [
    "sns.lineplot(dfgasolina, x=dfgasolina['Data'], y = dfgasolina['preco_medio'])"
   ]
  },
  {
   "attachments": {},
   "cell_type": "markdown",
   "metadata": {},
   "source": [
    "agora vamos visualizar os proximos:"
   ]
  },
  {
   "cell_type": "code",
   "execution_count": 203,
   "metadata": {},
   "outputs": [
    {
     "data": {
      "text/plain": [
       "[Text(0.5, 1.0, 'Preço do Diesel em média')]"
      ]
     },
     "execution_count": 203,
     "metadata": {},
     "output_type": "execute_result"
    },
    {
     "data": {
      "image/png": "[encoded data removed]",
      "text/plain": [
       "<Figure size 432x288 with 1 Axes>"
      ]
     },
     "metadata": {
      "needs_background": "light"
     },
     "output_type": "display_data"
    }
   ],
   "source": [
    "sns.lineplot(df_soma_quartil_diesel, x=df_soma_quartil_diesel['Ano'], y=df_soma_quartil_diesel['preco_medio'], legend=\"brief\").set(title='Preço do Diesel em média')"
   ]
  },
  {
   "cell_type": "code",
   "execution_count": 204,
   "metadata": {},
   "outputs": [
    {
     "data": {
      "text/plain": [
       "<AxesSubplot: xlabel='Data', ylabel='preco_medio'>"
      ]
     },
     "execution_count": 204,
     "metadata": {},
     "output_type": "execute_result"
    },
    {
     "data": {
      "image/png": "[encoded data removed]",
      "text/plain": [
       "<Figure size 432x288 with 1 Axes>"
      ]
     },
     "metadata": {
      "needs_background": "light"
     },
     "output_type": "display_data"
    }
   ],
   "source": [
    "sns.lineplot(dfdiesel, x=dfdiesel['Data'], y = dfdiesel['preco_medio'])"
   ]
  },
  {
   "cell_type": "code",
   "execution_count": 205,
   "metadata": {},
   "outputs": [
    {
     "data": {
      "text/plain": [
       "[Text(0.5, 1.0, 'Preço do Etanol em média')]"
      ]
     },
     "execution_count": 205,
     "metadata": {},
     "output_type": "execute_result"
    },
    {
     "data": {
      "image/png": "[encoded data removed]",
      "text/plain": [
       "<Figure size 432x288 with 1 Axes>"
      ]
     },
     "metadata": {
      "needs_background": "light"
     },
     "output_type": "display_data"
    }
   ],
   "source": [
    "sns.lineplot(df_soma_quartil_etanol, x=df_soma_quartil_etanol['Ano'], y=df_soma_quartil_etanol['preco_medio'], legend=\"brief\").set(title='Preço do Etanol em média')"
   ]
  },
  {
   "cell_type": "code",
   "execution_count": 206,
   "metadata": {},
   "outputs": [
    {
     "data": {
      "text/plain": [
       "<AxesSubplot: xlabel='Data', ylabel='preco_medio'>"
      ]
     },
     "execution_count": 206,
     "metadata": {},
     "output_type": "execute_result"
    },
    {
     "data": {
      "image/png": "[encoded data removed]",
      "text/plain": [
       "<Figure size 432x288 with 1 Axes>"
      ]
     },
     "metadata": {
      "needs_background": "light"
     },
     "output_type": "display_data"
    }
   ],
   "source": [
    "sns.lineplot(dfetanol, x=dfetanol['Data'], y = dfetanol['preco_medio'])"
   ]
  },
  {
   "cell_type": "code",
   "execution_count": 207,
   "metadata": {},
   "outputs": [
    {
     "data": {
      "text/plain": [
       "[Text(0.5, 1.0, 'Preço do Gasolina Aditivada em média')]"
      ]
     },
     "execution_count": 207,
     "metadata": {},
     "output_type": "execute_result"
    },
    {
     "data": {
      "image/png": "[encoded data removed]",
      "text/plain": [
       "<Figure size 432x288 with 1 Axes>"
      ]
     },
     "metadata": {
      "needs_background": "light"
     },
     "output_type": "display_data"
    }
   ],
   "source": [
    "sns.lineplot(df_soma_quartil_gasadt, x=df_soma_quartil_gasadt['Ano'], y=df_soma_quartil_gasadt['preco_medio'], legend=\"brief\").set(title='Preço do Gasolina Aditivada em média')"
   ]
  },
  {
   "cell_type": "code",
   "execution_count": 208,
   "metadata": {},
   "outputs": [
    {
     "data": {
      "text/plain": [
       "<AxesSubplot: xlabel='Data', ylabel='preco_medio'>"
      ]
     },
     "execution_count": 208,
     "metadata": {},
     "output_type": "execute_result"
    },
    {
     "data": {
      "image/png": "[encoded data removed]",
      "text/plain": [
       "<Figure size 432x288 with 1 Axes>"
      ]
     },
     "metadata": {
      "needs_background": "light"
     },
     "output_type": "display_data"
    }
   ],
   "source": [
    "sns.lineplot(dfgasadt, x=dfgasadt['Data'], y = dfgasadt['preco_medio'])"
   ]
  },
  {
   "cell_type": "code",
   "execution_count": 209,
   "metadata": {},
   "outputs": [
    {
     "data": {
      "text/plain": [
       "[Text(0.5, 1.0, 'Preço do Gás Natural em média')]"
      ]
     },
     "execution_count": 209,
     "metadata": {},
     "output_type": "execute_result"
    },
    {
     "data": {
      "image/png": "[encoded data removed]",
      "text/plain": [
       "<Figure size 432x288 with 1 Axes>"
      ]
     },
     "metadata": {
      "needs_background": "light"
     },
     "output_type": "display_data"
    }
   ],
   "source": [
    "sns.lineplot(df_soma_quartil_gnv, x=df_soma_quartil_gnv['Ano'], y=df_soma_quartil_gnv['preco_medio'], legend=\"brief\").set(title='Preço do Gás Natural em média')"
   ]
  },
  {
   "cell_type": "code",
   "execution_count": 210,
   "metadata": {},
   "outputs": [
    {
     "data": {
      "text/plain": [
       "<AxesSubplot: xlabel='Data', ylabel='preco_medio'>"
      ]
     },
     "execution_count": 210,
     "metadata": {},
     "output_type": "execute_result"
    },
    {
     "data": {
      "image/png": "[encoded data removed]",
      "text/plain": [
       "<Figure size 432x288 with 1 Axes>"
      ]
     },
     "metadata": {
      "needs_background": "light"
     },
     "output_type": "display_data"
    }
   ],
   "source": [
    "sns.lineplot(dfgnv, x=dfgnv['Data'], y = dfgnv['preco_medio'])"
   ]
  },
  {
   "cell_type": "code",
   "execution_count": 218,
   "metadata": {},
   "outputs": [],
   "source": [
    "combustiveismax = [dfgasolina['preco_medio'].max(), dfdiesel['preco_medio'].max(), dfetanol['preco_medio'].max(), dfgasadt['preco_medio'].max(), dfgnv['preco_medio'].max()]\n",
    "combustiveismin = [dfgasolina['preco_medio'].min(), dfdiesel['preco_medio'].min(), dfetanol['preco_medio'].min(), dfgasadt['preco_medio'].min(), dfgnv['preco_medio'].min()]\n",
    "\n",
    "dados = {'Combustível': ['Gasolina', 'Diesel', 'Etanol', 'Gasolina Aditivada', 'GNV'],\n",
    "        'Preço Máximo': combustiveismax,\n",
    "        'Preço Mínimo': combustiveismin}\n",
    "\n",
    "df_combustiveis = pd.DataFrame(dados)\n"
   ]
  },
  {
   "cell_type": "code",
   "execution_count": 219,
   "metadata": {},
   "outputs": [
    {
     "data": {
      "text/html": [
       "<div>\n",
       "<style scoped>\n",
       "    .dataframe tbody tr th:only-of-type {\n",
       "        vertical-align: middle;\n",
       "    }\n",
       "\n",
       "    .dataframe tbody tr th {\n",
       "        vertical-align: top;\n",
       "    }\n",
       "\n",
       "    .dataframe thead th {\n",
       "        text-align: right;\n",
       "    }\n",
       "</style>\n",
       "<table border=\"1\" class=\"dataframe\">\n",
       "  <thead>\n",
       "    <tr style=\"text-align: right;\">\n",
       "      <th></th>\n",
       "      <th>Combustível</th>\n",
       "      <th>Preço Máximo</th>\n",
       "      <th>Preço Mínimo</th>\n",
       "    </tr>\n",
       "  </thead>\n",
       "  <tbody>\n",
       "    <tr>\n",
       "      <th>0</th>\n",
       "      <td>Gasolina</td>\n",
       "      <td>7.19</td>\n",
       "      <td>3.78</td>\n",
       "    </tr>\n",
       "    <tr>\n",
       "      <th>1</th>\n",
       "      <td>Diesel</td>\n",
       "      <td>7.48</td>\n",
       "      <td>3.16</td>\n",
       "    </tr>\n",
       "    <tr>\n",
       "      <th>2</th>\n",
       "      <td>Etanol</td>\n",
       "      <td>5.69</td>\n",
       "      <td>3.19</td>\n",
       "    </tr>\n",
       "    <tr>\n",
       "      <th>3</th>\n",
       "      <td>Gasolina Aditivada</td>\n",
       "      <td>7.38</td>\n",
       "      <td>3.90</td>\n",
       "    </tr>\n",
       "    <tr>\n",
       "      <th>4</th>\n",
       "      <td>GNV</td>\n",
       "      <td>4.99</td>\n",
       "      <td>2.96</td>\n",
       "    </tr>\n",
       "  </tbody>\n",
       "</table>\n",
       "</div>"
      ],
      "text/plain": [
       "          Combustível  Preço Máximo  Preço Mínimo\n",
       "0            Gasolina          7.19          3.78\n",
       "1              Diesel          7.48          3.16\n",
       "2              Etanol          5.69          3.19\n",
       "3  Gasolina Aditivada          7.38          3.90\n",
       "4                 GNV          4.99          2.96"
      ]
     },
     "execution_count": 219,
     "metadata": {},
     "output_type": "execute_result"
    }
   ],
   "source": [
    "df_combustiveis"
   ]
  },
  {
   "cell_type": "code",
   "execution_count": 224,
   "metadata": {},
   "outputs": [
    {
     "data": {
      "text/plain": [
       "[Text(0.5, 1.0, 'Maximo de preços por Combustível')]"
      ]
     },
     "execution_count": 224,
     "metadata": {},
     "output_type": "execute_result"
    },
    {
     "data": {
      "image/png": "[encoded data removed]",
      "text/plain": [
       "<Figure size 432x288 with 1 Axes>"
      ]
     },
     "metadata": {
      "needs_background": "light"
     },
     "output_type": "display_data"
    }
   ],
   "source": [
    "sns.barplot(df_combustiveis,x=df_combustiveis['Combustível'], y=df_combustiveis['Preço Máximo']).set(title='Maximo de preços por Combustível')"
   ]
  },
  {
   "cell_type": "code",
   "execution_count": 225,
   "metadata": {},
   "outputs": [
    {
     "data": {
      "text/plain": [
       "[Text(0.5, 1.0, 'Mínimo de preços por Combustível')]"
      ]
     },
     "execution_count": 225,
     "metadata": {},
     "output_type": "execute_result"
    },
    {
     "data": {
      "image/png": "[encoded data removed]",
      "text/plain": [
       "<Figure size 432x288 with 1 Axes>"
      ]
     },
     "metadata": {
      "needs_background": "light"
     },
     "output_type": "display_data"
    }
   ],
   "source": [
    "sns.barplot(df_combustiveis,x=df_combustiveis['Combustível'], y=df_combustiveis['Preço Mínimo']).set(title='Mínimo de preços por Combustível')"
   ]
  },
  {
   "cell_type": "code",
   "execution_count": null,
   "metadata": {},
   "outputs": [],
   "source": []
  }
 ],
 "metadata": {
  "kernelspec": {
   "display_name": "Python 3",
   "language": "python",
   "name": "python3"
  },
  "language_info": {
   "codemirror_mode": {
    "name": "ipython",
    "version": 3
   },
   "file_extension": ".py",
   "mimetype": "text/x-python",
   "name": "python",
   "nbconvert_exporter": "python",
   "pygments_lexer": "ipython3",
   "version": "3.9.13"
  },
  "orig_nbformat": 4
 },
 "nbformat": 4,
 "nbformat_minor": 2
}
